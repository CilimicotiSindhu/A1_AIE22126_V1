{
  "nbformat": 4,
  "nbformat_minor": 0,
  "metadata": {
    "colab": {
      "provenance": []
    },
    "kernelspec": {
      "name": "python3",
      "display_name": "Python 3"
    },
    "language_info": {
      "name": "python"
    }
  },
  "cells": [
    {
      "cell_type": "markdown",
      "source": [
        "**Q1.** **Write a program to count the numberof vowels and consonants present in an input string.**"
      ],
      "metadata": {
        "id": "KWHWkHAdOT7T"
      }
    },
    {
      "cell_type": "code",
      "source": [
        "# Define  function for Vowel and Consonant search\n",
        "def Vowels_and_Consonants(input_string):\n",
        "    Vowels = \"AEIOUaeiou\"   # Intiallizing Vowels in upper and lower cases\n",
        "    vowel_count = 0  # Intial Count of Vowels\n",
        "    consonant_count = 0 # Tnitial Count of Consonants\n",
        "\n",
        "    for char in (input_string):  # for loop for ckecking the characters in input that is in string format\n",
        "        if char.isalpha():  # To check weather the given input contains Alphabets\n",
        "            if char in Vowels:  # If the string contains any intiallized Vowels\n",
        "                vowel_count += 1  # the vowel count shall be incremented by 1\n",
        "            else:\n",
        "                consonant_count += 1 # else consonant count shall be incremented by 1\n",
        "\n",
        "    print(\"Number of Vowels in the string are: \", vowel_count) #print statement for Displaying the value of the no.of Vowels\n",
        "    print(\"Number of consonants in the string are: \", consonant_count) #print statement for displaying the value of the no.of Consonants\n",
        "\n",
        "# Initial call to the function\n",
        "user_input = input(\"Enter a String: \")\n",
        "Vowels_and_Consonants(user_input)"
      ],
      "metadata": {
        "colab": {
          "base_uri": "https://localhost:8080/"
        },
        "id": "dE3228XeSr2O",
        "outputId": "5fed4a3d-5d2f-4ee5-b918-05e14f7225e5"
      },
      "execution_count": 28,
      "outputs": [
        {
          "output_type": "stream",
          "name": "stdout",
          "text": [
            "Enter a String: Claustrophobic\n",
            "Number of Vowels in the string are:  5\n",
            "Number of consonants in the string are:  9\n"
          ]
        }
      ]
    },
    {
      "cell_type": "markdown",
      "source": [
        "**Q2. Write a program that accepts two matrices A and Bas input and returns their product AB.Check if A & B aremultipliable; if not, return error message.**"
      ],
      "metadata": {
        "id": "RXiY9MoqTug6"
      }
    },
    {
      "cell_type": "code",
      "source": [
        "def multiply_matrices(matrix_A, matrix_B):\n",
        "    rows_A, cols_A = len(matrix_A), len(matrix_A[0])\n",
        "    rows_B, cols_B = len(matrix_B), len(matrix_B[0])\n",
        "\n",
        "    # Check if matrices are multipliable\n",
        "    if cols_A != rows_B:\n",
        "        return \"Error: Matrices are not multipliable\"\n",
        "\n",
        "    # Initialize the result matrix with zeros\n",
        "    result_matrix = [[0 for _ in range(cols_B)] for _ in range(rows_A)]\n",
        "\n",
        "    # Perform matrix multiplication using nested loops\n",
        "    for i in range(rows_A):\n",
        "        for j in range(cols_B):\n",
        "            for k in range(cols_A):\n",
        "                result_matrix[i][j] += matrix_A[i][k] * matrix_B[k][j]\n",
        "\n",
        "    return result_matrix\n",
        "\n",
        "# User input for matrix A\n",
        "rows_A = int(input(\"Enter the number of rows for matrix A: \"))\n",
        "cols_A = int(input(\"Enter the number of columns for matrix A: \"))\n",
        "matrix_A = []\n",
        "\n",
        "print(\"Enter the elements for matrix A row-wise:\")\n",
        "for i in range(rows_A):\n",
        "    row = list(map(int, input().split()))\n",
        "    matrix_A.append(row)\n",
        "\n",
        "# User input for matrix B\n",
        "rows_B = int(input(\"Enter the number of rows for matrix B: \"))\n",
        "cols_B = int(input(\"Enter the number of columns for matrix B: \"))\n",
        "matrix_B = []\n",
        "\n",
        "print(\"Enter the elements for matrix B row-wise:\")\n",
        "for i in range(rows_B):\n",
        "    row = list(map(int, input().split()))\n",
        "    matrix_B.append(row)\n",
        "\n",
        "result = multiply_matrices(matrix_A, matrix_B)\n",
        "\n",
        "if isinstance(result, str):\n",
        "    print(result)\n",
        "else:\n",
        "    print(\"\\nMatrix A:\")\n",
        "    for row in matrix_A:\n",
        "        print(row)\n",
        "\n",
        "    print(\"\\nMatrix B:\")\n",
        "    for row in matrix_B:\n",
        "        print(row)\n",
        "\n",
        "    print(\"\\nProduct AB:\")\n",
        "    for row in result:\n",
        "        print(row)\n"
      ],
      "metadata": {
        "colab": {
          "base_uri": "https://localhost:8080/"
        },
        "id": "W8Ju_YG1UBsj",
        "outputId": "fdcb097b-95f7-4563-d69d-9c60d1543040"
      },
      "execution_count": 39,
      "outputs": [
        {
          "output_type": "stream",
          "name": "stdout",
          "text": [
            "Enter the number of rows for matrix A: 3\n",
            "Enter the number of columns for matrix A: 3\n",
            "Enter the elements for matrix A row-wise:\n",
            "1 2 3 \n",
            "3 4 5\n",
            "6 7 8\n",
            "Enter the number of rows for matrix B: 3\n",
            "Enter the number of columns for matrix B: 3\n",
            "Enter the elements for matrix B row-wise:\n",
            "9 8 7\n",
            "6 5 4\n",
            "3 2 1\n",
            "\n",
            "Matrix A:\n",
            "[1, 2, 3]\n",
            "[3, 4, 5]\n",
            "[6, 7, 8]\n",
            "\n",
            "Matrix B:\n",
            "[9, 8, 7]\n",
            "[6, 5, 4]\n",
            "[3, 2, 1]\n",
            "\n",
            "Product AB:\n",
            "[30, 24, 18]\n",
            "[66, 54, 42]\n",
            "[120, 99, 78]\n"
          ]
        }
      ]
    },
    {
      "cell_type": "markdown",
      "source": [
        "**Q3. Write a program to find the number of common elements between two lists. The lists contain integers.**"
      ],
      "metadata": {
        "id": "PCrVPmtiWpD0"
      }
    },
    {
      "cell_type": "code",
      "source": [
        "#Define a function for searching common in two input lists\n",
        "def Common_Elements_Count(list1, list2):\n",
        "  common_elements = []  #an empty list is created, which will be later used for storing the common elements of the lists\n",
        "  for element in list1:    # 'for' loop is implemented for a recursive check throughout the lists to find for common elements\n",
        "    if element in list2 and element not in common_elements:\n",
        "      common_elements.append(element)\n",
        "  return len(common_elements) # once the common elements are found they are appended to the empty common element list\n",
        "  # these statements are for user to enter list 1 and list 2 with commas between elements\n",
        "list1 = list(map(int,input(\"Enter the first list of integers (Seperated with comma): \").split(',')))\n",
        "list2 = list(map(int, input(\"Enter the second list of integers (Seperated with comma): \").split(',')))\n",
        "result= Common_Elements_Count(list1, list2) #stores the result (count of common elements) in the variable result\n",
        "print(f\"No.of Common Elements: {result}\") # prints the value of no.of Common elements\n"
      ],
      "metadata": {
        "colab": {
          "base_uri": "https://localhost:8080/"
        },
        "id": "jWtJBy0CWuQP",
        "outputId": "68218a23-8925-43c0-d2f6-9344d9f5cbd3"
      },
      "execution_count": 30,
      "outputs": [
        {
          "output_type": "stream",
          "name": "stdout",
          "text": [
            "Enter the first list of integers (Seperated with comma): 1,2,3,8,9,8,6\n",
            "Enter the second list of integers (Seperated with comma): 4,5,6,2,4,5,6,8,9\n",
            "No.of Common Elements: 4\n"
          ]
        }
      ]
    },
    {
      "cell_type": "markdown",
      "source": [
        "**Q4. Write a program that accepts a matrix as input and returns its transpose.**"
      ],
      "metadata": {
        "id": "UlW_jD83j069"
      }
    },
    {
      "cell_type": "code",
      "source": [
        "# Define a Function to transpose a matrix\n",
        "def Transpose_Matrix(matrix):\n",
        "    # Now initialize the dimensions of the matrix\n",
        "    rows = len(matrix)\n",
        "    cols = len(matrix[0])\n",
        "\n",
        "    # At first initialize an empty transposed matrix\n",
        "    transposed_matrix = [[0 for _ in range(rows)] for _ in range(cols)]\n",
        "\n",
        "    # By using a for loop, it iterates the elements in the matrix and transposes them\n",
        "    for i in range(rows):\n",
        "        for j in range(cols):\n",
        "            transposed_matrix[j][i] = matrix[i][j]\n",
        "\n",
        "    # Once the matrix is iterated, the transposed elements are returned to the initialized transpose matrix\n",
        "    return transposed_matrix\n",
        "\n",
        "# User input for the matrix\n",
        "rows = int(input(\"Enter the number of rows: \"))\n",
        "cols = int(input(\"Enter the number of columns: \"))\n",
        "matrix = []\n",
        "\n",
        "print(\"Enter the matrix elements row-wise:\")\n",
        "for i in range(rows):\n",
        "    row = list(map(int, input().split()))\n",
        "    matrix.append(row)\n",
        "\n",
        "result = Transpose_Matrix(matrix)\n",
        "\n",
        "print(\"\\nOriginal Matrix:\")\n",
        "for row in matrix:\n",
        "    print(row)\n",
        "\n",
        "print(\"\\nTransposed Matrix:\")\n",
        "for row in result:\n",
        "    print(row)\n"
      ],
      "metadata": {
        "colab": {
          "base_uri": "https://localhost:8080/"
        },
        "id": "1sQX_egUj-Au",
        "outputId": "7d33bcea-7645-4569-f176-70dfe4ab7f74"
      },
      "execution_count": 37,
      "outputs": [
        {
          "output_type": "stream",
          "name": "stdout",
          "text": [
            "Enter the number of rows: 2\n",
            "Enter the number of columns: 2\n",
            "Enter the matrix elements row-wise:\n",
            "2 2\n",
            "3 4\n",
            "\n",
            "Original Matrix:\n",
            "[2, 2]\n",
            "[3, 4]\n",
            "\n",
            "Transposed Matrix:\n",
            "[2, 3]\n",
            "[2, 4]\n"
          ]
        }
      ]
    }
  ]
}